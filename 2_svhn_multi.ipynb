{
 "cells": [
  {
   "cell_type": "markdown",
   "metadata": {
    "colab_type": "text",
    "id": "5hIbr52I7Z7U"
   },
   "source": [
    "Deep Learning\n",
    "=============\n",
    "\n",
    "Here we attempt to load, explore and clean if required the data from street view housing numbers dataset. "
   ]
  },
  {
   "cell_type": "code",
   "execution_count": 5,
   "metadata": {
    "cellView": "both",
    "colab": {
     "autoexec": {
      "startup": false,
      "wait_interval": 0
     }
    },
    "colab_type": "code",
    "collapsed": true,
    "id": "apJbCsBHl-2A"
   },
   "outputs": [],
   "source": [
    "# These are all the modules we'll be using later. Make sure you can import them\n",
    "# before proceeding further.\n",
    "from __future__ import print_function\n",
    "import matplotlib.pyplot as plt\n",
    "import numpy as np\n",
    "import os\n",
    "import sys\n",
    "import tarfile\n",
    "from IPython.display import display, Image\n",
    "from scipy import ndimage\n",
    "from scipy import io\n",
    "from sklearn.linear_model import LogisticRegression\n",
    "from six.moves.urllib.request import urlretrieve\n",
    "from six.moves import cPickle as pickle\n",
    "import pandas as pd\n",
    "\n",
    "# Config the matlotlib backend as plotting inline in IPython\n",
    "%matplotlib inline"
   ]
  },
  {
   "cell_type": "code",
   "execution_count": 32,
   "metadata": {
    "collapsed": false
   },
   "outputs": [
    {
     "data": {
      "text/html": [
       "<div>\n",
       "<table border=\"1\" class=\"dataframe\">\n",
       "  <thead>\n",
       "    <tr style=\"text-align: right;\">\n",
       "      <th></th>\n",
       "      <th>Top</th>\n",
       "      <th>RightMost</th>\n",
       "      <th>DigitLabel</th>\n",
       "      <th>Left</th>\n",
       "      <th>BottomMost</th>\n",
       "      <th>LabelCount</th>\n",
       "      <th>Height</th>\n",
       "      <th>Width</th>\n",
       "    </tr>\n",
       "    <tr>\n",
       "      <th>FileName</th>\n",
       "      <th></th>\n",
       "      <th></th>\n",
       "      <th></th>\n",
       "      <th></th>\n",
       "      <th></th>\n",
       "      <th></th>\n",
       "      <th></th>\n",
       "      <th></th>\n",
       "    </tr>\n",
       "  </thead>\n",
       "  <tbody>\n",
       "    <tr>\n",
       "      <th>1.png</th>\n",
       "      <td>77</td>\n",
       "      <td>419</td>\n",
       "      <td>(1, 9)</td>\n",
       "      <td>246</td>\n",
       "      <td>300</td>\n",
       "      <td>2</td>\n",
       "      <td>223</td>\n",
       "      <td>173</td>\n",
       "    </tr>\n",
       "    <tr>\n",
       "      <th>10.png</th>\n",
       "      <td>4</td>\n",
       "      <td>48</td>\n",
       "      <td>(1, 6)</td>\n",
       "      <td>25</td>\n",
       "      <td>33</td>\n",
       "      <td>2</td>\n",
       "      <td>29</td>\n",
       "      <td>23</td>\n",
       "    </tr>\n",
       "    <tr>\n",
       "      <th>100.png</th>\n",
       "      <td>0</td>\n",
       "      <td>42</td>\n",
       "      <td>(1, 0, 9)</td>\n",
       "      <td>18</td>\n",
       "      <td>23</td>\n",
       "      <td>3</td>\n",
       "      <td>23</td>\n",
       "      <td>24</td>\n",
       "    </tr>\n",
       "    <tr>\n",
       "      <th>1000.png</th>\n",
       "      <td>1</td>\n",
       "      <td>27</td>\n",
       "      <td>(1, 3)</td>\n",
       "      <td>17</td>\n",
       "      <td>19</td>\n",
       "      <td>2</td>\n",
       "      <td>18</td>\n",
       "      <td>10</td>\n",
       "    </tr>\n",
       "    <tr>\n",
       "      <th>10000.png</th>\n",
       "      <td>20</td>\n",
       "      <td>88</td>\n",
       "      <td>(1, 5, 3)</td>\n",
       "      <td>45</td>\n",
       "      <td>52</td>\n",
       "      <td>3</td>\n",
       "      <td>32</td>\n",
       "      <td>43</td>\n",
       "    </tr>\n",
       "  </tbody>\n",
       "</table>\n",
       "</div>"
      ],
      "text/plain": [
       "           Top  RightMost DigitLabel  Left  BottomMost  LabelCount  Height  \\\n",
       "FileName                                                                     \n",
       "1.png       77        419     (1, 9)   246         300           2     223   \n",
       "10.png       4         48     (1, 6)    25          33           2      29   \n",
       "100.png      0         42  (1, 0, 9)    18          23           3      23   \n",
       "1000.png     1         27     (1, 3)    17          19           2      18   \n",
       "10000.png   20         88  (1, 5, 3)    45          52           3      32   \n",
       "\n",
       "           Width  \n",
       "FileName          \n",
       "1.png        173  \n",
       "10.png        23  \n",
       "100.png       24  \n",
       "1000.png      10  \n",
       "10000.png     43  "
      ]
     },
     "execution_count": 32,
     "metadata": {},
     "output_type": "execute_result"
    }
   ],
   "source": [
    "fileName = 'train/digitStruct.csv'\n",
    "\n",
    "df = pd.read_csv(fileName)\n",
    "df['LabelCount'] = df.DigitLabel\n",
    "df.DigitLabel = df['DigitLabel'].replace(10, 0)\n",
    "# right and bottom most offsets\n",
    "df['RightMost'] = df.Left + df.Width\n",
    "df['BottomMost'] = df.Top + df.Height\n",
    "\n",
    "grouped = df.groupby(['FileName'])\n",
    "agg = grouped.agg({'Left': np.min, 'Top': np.min, 'BottomMost': np.max, 'RightMost': np.max, 'LabelCount': np.size, 'DigitLabel': lambda x: tuple(x)})\n",
    "agg['Height'] = agg.BottomMost - agg.Top\n",
    "agg['Width'] = agg.RightMost - agg.Left\n",
    "agg.head()"
   ]
  },
  {
   "cell_type": "code",
   "execution_count": 42,
   "metadata": {
    "cellView": "both",
    "colab": {
     "autoexec": {
      "startup": false,
      "wait_interval": 0
     },
     "output_extras": [
      {
       "item_id": 1
      }
     ]
    },
    "colab_type": "code",
    "collapsed": false,
    "executionInfo": {
     "elapsed": 186058,
     "status": "ok",
     "timestamp": 1444485672507,
     "user": {
      "color": "#1FA15D",
      "displayName": "Vincent Vanhoucke",
      "isAnonymous": false,
      "isMe": true,
      "permissionId": "05076109866853157986",
      "photoUrl": "//lh6.googleusercontent.com/-cCJa7dTDcgQ/AAAAAAAAAAI/AAAAAAAACgw/r2EZ_8oYer4/s50-c-k-no/photo.jpg",
      "sessionId": "2a0a5e044bb03b66",
      "userId": "102167687554210253930"
     },
     "user_tz": 420
    },
    "id": "EYRJ4ICW6-da",
    "outputId": "0d0f85df-155f-4a89-8e7e-ee32df36ec8d"
   },
   "outputs": [
    {
     "name": "stdout",
     "output_type": "stream",
     "text": [
      "train/proc/resized\n",
      "Full dataset tensor: (23468, 32, 32, 3)\n",
      "Full labels tensor: (23468, 6)\n",
      "Mean: 0.0463026\n",
      "Standard deviation: 0.239705\n"
     ]
    }
   ],
   "source": [
    "image_size = 32  # Pixel width and height.\n",
    "pixel_depth = 255.0  # Number of levels per pixel.\n",
    "\n",
    "def load_letter(folder):\n",
    "  \"\"\"Load the data for a single letter label.\"\"\"\n",
    "  image_files = os.listdir(folder)\n",
    "  dataset = np.ndarray(shape=(len(image_files), image_size, image_size, 3),\n",
    "                         dtype=np.float32)\n",
    "  # length and 5 digits - 10 to signify absence of a digit in sequence\n",
    "  labels = np.ndarray(shape=(len(image_files), 6), dtype=np.int8)\n",
    "  print(folder)\n",
    "  num_images = 0\n",
    "  for image in image_files:\n",
    "    image_file = os.path.join(folder, image)\n",
    "    try:\n",
    "      # first - label data\n",
    "      label_data = agg.loc[image]\n",
    "      numbers = list(label_data.DigitLabel)\n",
    "      # if length of the numbers is less than 5, pad it with 10s\n",
    "      if len(numbers) < 5:\n",
    "        numbers += [10]*(5-len(numbers))\n",
    "      elif len(numbers) > 5:\n",
    "        continue # skip this image. number of digits more than 5\n",
    "      \n",
    "      length = label_data.LabelCount\n",
    "      labels[num_images, :] = np.array([length] + numbers)\n",
    "    \n",
    "      # now image data\n",
    "      image_data = (ndimage.imread(image_file).astype(float) - \n",
    "                    pixel_depth / 2) / pixel_depth\n",
    "      if image_data.shape != (image_size, image_size, 3):\n",
    "        raise Exception('Unexpected image shape: %s' % str(image_data.shape))\n",
    "      dataset[num_images, :, :, :] = image_data        \n",
    "    \n",
    "      # Increment the index counter\n",
    "      num_images = num_images + 1\n",
    "      \n",
    "    except IOError as e:\n",
    "      print('Could not read:', image_file, ':', e, '- it\\'s ok, skipping.')\n",
    "    \n",
    "  dataset = dataset[0:num_images, :, :, :]\n",
    "  labels = labels[0:num_images, :]\n",
    "  \n",
    "  print('Full dataset tensor:', dataset.shape)\n",
    "  print('Full labels tensor:', labels.shape)\n",
    "  print('Mean:', np.mean(dataset))\n",
    "  print('Standard deviation:', np.std(dataset))\n",
    "  return (dataset, labels)\n",
    "\n",
    "train_dataset, labels = load_letter('train/proc/resized')"
   ]
  },
  {
   "cell_type": "code",
   "execution_count": 44,
   "metadata": {
    "collapsed": false
   },
   "outputs": [
    {
     "data": {
      "text/plain": [
       "array([ 3,  6,  5,  9, 10, 10], dtype=int8)"
      ]
     },
     "execution_count": 44,
     "metadata": {},
     "output_type": "execute_result"
    }
   ],
   "source": [
    "labels[1]"
   ]
  }
 ],
 "metadata": {
  "colab": {
   "default_view": {},
   "name": "1_notmnist.ipynb",
   "provenance": [],
   "version": "0.3.2",
   "views": {}
  },
  "kernelspec": {
   "display_name": "Python 2",
   "language": "python",
   "name": "python2"
  },
  "language_info": {
   "codemirror_mode": {
    "name": "ipython",
    "version": 2
   },
   "file_extension": ".py",
   "mimetype": "text/x-python",
   "name": "python",
   "nbconvert_exporter": "python",
   "pygments_lexer": "ipython2",
   "version": "2.7.12"
  }
 },
 "nbformat": 4,
 "nbformat_minor": 0
}
